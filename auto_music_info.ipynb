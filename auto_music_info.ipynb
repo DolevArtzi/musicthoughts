{
 "cells": [
  {
   "cell_type": "markdown",
   "metadata": {},
   "source": [
    "### Auto Music Info\n",
    "* Goal: easily incorporate images, reviews, etc. into my music reviews, with the help of [pitchfork](https://pitchfork.com/)\n",
    "#### **Concrete Steps For Now**\n",
    "- Auto-grab images, load them in properly, consider sizing, formatting (CSS?)\n",
    "- Auto-grab reviews, link to them at the very least\n",
    "    - MVP: must be able to correctly *check existence of a review* link to review\n",
    "        - also, must be able to go through backlog of my reviews to correctly incorporate images after the fact\n",
    "    - Medium Difficulty Goal: possibly incorporate paragraphs from the review if it exists\n",
    "    - Medium Difficulty Goal: incorporate/link to other reviews from the same artist, if they exist\n",
    "    - Stretch goal: use NLP to take parts from the review that talk about different songs, and include them where I mention the song \n",
    "    - Stretch goal: scrape tweets on the album, analyze the sentiment (twitter, **youtube**, last.fm?, reddit, **google**?)\n",
    "    - Stretch goal: incorporate samplify ideas\n",
    "    - Stretch goal: incorporate spotify api to link directly to the albums\n",
    "    - Stretch goal: spotify api++"
   ]
  },
  {
   "cell_type": "code",
   "execution_count": null,
   "metadata": {},
   "outputs": [],
   "source": [
    "!pip3 install beautifulsoup4 pitchfork --q"
   ]
  },
  {
   "cell_type": "code",
   "execution_count": null,
   "metadata": {},
   "outputs": [],
   "source": [
    "import pitchfork"
   ]
  }
 ],
 "metadata": {
  "kernelspec": {
   "display_name": "Python 3.11.6 64-bit",
   "language": "python",
   "name": "python3"
  },
  "language_info": {
   "codemirror_mode": {
    "name": "ipython",
    "version": 3
   },
   "file_extension": ".py",
   "mimetype": "text/x-python",
   "name": "python",
   "nbconvert_exporter": "python",
   "pygments_lexer": "ipython3",
   "version": "3.11.6"
  },
  "orig_nbformat": 4,
  "vscode": {
   "interpreter": {
    "hash": "b0fa6594d8f4cbf19f97940f81e996739fb7646882a419484c72d19e05852a7e"
   }
  }
 },
 "nbformat": 4,
 "nbformat_minor": 2
}
